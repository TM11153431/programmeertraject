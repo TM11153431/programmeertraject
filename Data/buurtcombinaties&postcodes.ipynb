{
 "cells": [
  {
   "cell_type": "code",
   "execution_count": 2,
   "metadata": {
    "collapsed": true
   },
   "outputs": [],
   "source": [
    "import json\n",
    "import numpy as pd\n",
    "import pandas as pd"
   ]
  },
  {
   "cell_type": "code",
   "execution_count": 56,
   "metadata": {
    "collapsed": false
   },
   "outputs": [],
   "source": [
    "postcodes = pd.read_excel('postcode_buurtcombinatie.xls')\n",
    "\n",
    "data = open('buurten_amsterdam_wsg84_stadsdelen.geojson').read()\n",
    "#jwz\n",
    "geo_dict = json.loads(data)\n",
    "for buurt in geo_dict['features']:\n",
    "    buurtcombi = buurt['properties']['buurtcombi']\n",
    "    \n",
    "    for i in postcodes.iterrows():\n",
    "        if buurtcombi == i[1]['buurtcombinatie']:\n",
    "            postcode = i[1]['postcode_min']\n",
    "            buurt['properties']['postcode'] = postcode[:4]"
   ]
  },
  {
   "cell_type": "code",
   "execution_count": 57,
   "metadata": {
    "collapsed": false
   },
   "outputs": [],
   "source": [
    "with open('buurten_amsterdam_wsg84_stadsdelen_zip.geojson', 'w') as fp:\n",
    "    json.dump(geo_dict, fp)"
   ]
  },
  {
   "cell_type": "code",
   "execution_count": null,
   "metadata": {
    "collapsed": true
   },
   "outputs": [],
   "source": []
  }
 ],
 "metadata": {
  "kernelspec": {
   "display_name": "Python 2",
   "language": "python",
   "name": "python2"
  },
  "language_info": {
   "codemirror_mode": {
    "name": "ipython",
    "version": 2
   },
   "file_extension": ".py",
   "mimetype": "text/x-python",
   "name": "python",
   "nbconvert_exporter": "python",
   "pygments_lexer": "ipython2",
   "version": "2.7.13"
  }
 },
 "nbformat": 4,
 "nbformat_minor": 2
}
