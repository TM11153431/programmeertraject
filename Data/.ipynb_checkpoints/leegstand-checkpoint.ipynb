{
 "cells": [
  {
   "cell_type": "code",
   "execution_count": 40,
   "metadata": {
    "collapsed": false
   },
   "outputs": [],
   "source": [
    "import pandas as pd\n",
    "import numpy as np"
   ]
  },
  {
   "cell_type": "code",
   "execution_count": 62,
   "metadata": {
    "collapsed": false
   },
   "outputs": [],
   "source": [
    "df = pd.read_csv('LEEGSTAND_TRANSFORMATIE.csv', delimiter = ';', usecols = [2, 5, 6, 7, 8, 9, 10, 11, 12, 13, 14, 16, 17, 18])"
   ]
  },
  {
   "cell_type": "code",
   "execution_count": 63,
   "metadata": {
    "collapsed": false
   },
   "outputs": [],
   "source": [
    "\n",
    "df = df[df.Bruto_vloeroppervlak> 0]\n",
    "# data voor het showen van de leegstand op de map\n",
    "#df.to_json('leegstand.json', orient = 'records')"
   ]
  },
  {
   "cell_type": "code",
   "execution_count": 64,
   "metadata": {
    "collapsed": false
   },
   "outputs": [],
   "source": [
    "df['Postcode'] = df['Postcode'].str[:4].apply(pd.to_numeric, errors='coerce')\n",
    "df.dropna(subset=['Postcode'], inplace=True)\n",
    "# convert dat zipcode to a prupper int\n",
    "df['Postcode'] = df['Postcode'].apply(lambda x: int(x))"
   ]
  },
  {
   "cell_type": "code",
   "execution_count": 72,
   "metadata": {
    "collapsed": false
   },
   "outputs": [],
   "source": [
    "df = df.groupby(['Postcode', 'Huidige_functie']).agg('count')"
   ]
  },
  {
   "cell_type": "code",
   "execution_count": 74,
   "metadata": {
    "collapsed": false
   },
   "outputs": [
    {
     "data": {
      "text/plain": [
       "Postcode  Huidige_functie              \n",
       "1011      Bedrijf                           1\n",
       "          Kantoor                           1\n",
       "          Wonen                             1\n",
       "1012      Kantoor                           3\n",
       "          Kantoor - Wonen                   1\n",
       "          Onderwijs                         1\n",
       "1013      Bedrijf                           0\n",
       "          Bedrijf - Hotel - Wonen           0\n",
       "          Bedrijf - Wonen                   0\n",
       "          Kantoor                           0\n",
       "          Onbekend                          0\n",
       "1014      Bedrijf                           0\n",
       "          Kantoor                           7\n",
       "          Wonen                             0\n",
       "1015      Commercieel - Kantoor - Wonen     0\n",
       "          Kantoor                           2\n",
       "1016      Kantoor                           0\n",
       "          Kantoor - Wonen                   0\n",
       "1017      Kantoor                           0\n",
       "          Kantoor - Wonen                   0\n",
       "          Onbekend                          1\n",
       "          Onderwijs - Wonen                 0\n",
       "1018      Bedrijf                           1\n",
       "          Bedrijf - Wonen                   0\n",
       "          Commercieel                       0\n",
       "          Commercieel - Wonen               0\n",
       "          Kantoor                           0\n",
       "          Kantoor - Bedrijf                 0\n",
       "          Onderwijs                         1\n",
       "1019      Bedrijf                           0\n",
       "                                           ..\n",
       "1081      Onbekend                          0\n",
       "1082      Kantoor                           3\n",
       "1083      Commercieel                       0\n",
       "          Kantoor                           3\n",
       "          Maatschappelijk                   1\n",
       "          Onderwijs                         0\n",
       "1091      Commercieel                       1\n",
       "          Kantoor                           0\n",
       "          Onderwijs - Wonen                 1\n",
       "1092      Kantoor                           0\n",
       "          Kantoor - Wonen                   1\n",
       "          Maatschappelijk                   1\n",
       "1093      Commercieel - Kantoor - Wonen     1\n",
       "1096      Bedrijf                           0\n",
       "          Kantoor                           2\n",
       "          Maatschappelijk                   1\n",
       "1097      Kantoor                           1\n",
       "          Onderwijs                         0\n",
       "1101      Bedrijf                           1\n",
       "          Broedplaats                       1\n",
       "          Kantoor                          12\n",
       "1102      Broedplaats                       0\n",
       "          Commercieel                       0\n",
       "          Commercieel - Wonen               0\n",
       "          Kantoor                           2\n",
       "          Wonen                             0\n",
       "1103      Kantoor                           0\n",
       "1104      Kantoor                           0\n",
       "1105      Kantoor                           4\n",
       "1106      Kantoor                           0\n",
       "Name: Gebouwnaam, dtype: int64"
      ]
     },
     "execution_count": 74,
     "metadata": {},
     "output_type": "execute_result"
    }
   ],
   "source": [
    "df['Gebouwnaam'].to_json('test.json', orient='index')"
   ]
  },
  {
   "cell_type": "code",
   "execution_count": null,
   "metadata": {
    "collapsed": true
   },
   "outputs": [],
   "source": []
  }
 ],
 "metadata": {
  "kernelspec": {
   "display_name": "Python 2",
   "language": "python",
   "name": "python2"
  },
  "language_info": {
   "codemirror_mode": {
    "name": "ipython",
    "version": 2
   },
   "file_extension": ".py",
   "mimetype": "text/x-python",
   "name": "python",
   "nbconvert_exporter": "python",
   "pygments_lexer": "ipython2",
   "version": "2.7.13"
  }
 },
 "nbformat": 4,
 "nbformat_minor": 2
}
