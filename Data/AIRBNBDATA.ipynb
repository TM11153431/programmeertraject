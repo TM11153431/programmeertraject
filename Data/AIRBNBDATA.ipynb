{
 "cells": [
  {
   "cell_type": "code",
   "execution_count": 44,
   "metadata": {
    "collapsed": false
   },
   "outputs": [],
   "source": [
    "import pandas as pd\n",
    "import numpy as np\n",
    "pd.set_option('display.max_columns', 200)\n",
    "pd.options.display.float_format = '{:,.0f}'.format"
   ]
  },
  {
   "cell_type": "code",
   "execution_count": 81,
   "metadata": {
    "collapsed": false
   },
   "outputs": [
    {
     "data": {
      "text/plain": [
       "1054"
      ]
     },
     "execution_count": 81,
     "metadata": {},
     "output_type": "execute_result"
    }
   ],
   "source": [
    "columns = ['id','scrape_id', 'neighbourhood', 'zipcode', 'property_type', 'room_type', 'accommodates', 'bedrooms', 'beds', 'price', 'number_of_reviews', 'review_scores_rating', 'reviews_per_month'] \n",
    "listings = pd.read_csv('listings.csv')\n",
    "listings = listings[columns]\n",
    "listings.index = listings['id']\n",
    "del listings['id']\n",
    "listings['price'] = listings['price'].replace(['[\\$]', '[\\,]'], '', regex=True).apply(pd.to_numeric)\n",
    "# --> filter zipcode on first 4 numbers\n",
    "listings['zipcode'] = listings['zipcode'].str[:4].apply(pd.to_numeric, errors='coerce')\n",
    "listings.dropna(subset=['zipcode'], inplace=True)\n",
    "# convert dat zipcode to a prupper int\n",
    "listings['zipcode'] = listings['zipcode'].apply(lambda x: int(x))\n",
    "listings['zipcode'].iloc[0]"
   ]
  },
  {
   "cell_type": "code",
   "execution_count": 82,
   "metadata": {
    "collapsed": false,
    "scrolled": true
   },
   "outputs": [
    {
     "name": "stderr",
     "output_type": "stream",
     "text": [
      "/Users/sjoerd/anaconda/lib/python2.7/site-packages/ipykernel/__main__.py:6: FutureWarning: sort(....) is deprecated, use sort_index(.....)\n"
     ]
    }
   ],
   "source": [
    "#price & reviews \n",
    "listings['zipcode'].astype('category')\n",
    "price_reviews = pd.pivot_table(listings, index=['zipcode'], values=['price', 'scrape_id','number_of_reviews', 'review_scores_rating', 'reviews_per_month'], aggfunc={'price': np.mean, 'scrape_id': len, 'review_scores_rating': np.mean, 'reviews_per_month': np.mean, 'number_of_reviews': np.sum})\n",
    "del price_reviews['scrape_id']\n",
    "# --->>> JSON\n",
    "price_reviews.sort() # SORT\n",
    "price_reviews.to_json('price_reviews.json', orient='index')"
   ]
  },
  {
   "cell_type": "code",
   "execution_count": 76,
   "metadata": {
    "collapsed": false
   },
   "outputs": [],
   "source": [
    "# PROPERTY TYPES PIVOT\n",
    "\n",
    "property_types = pd.pivot_table(listings, index='zipcode', columns='property_type', values='scrape_id', aggfunc=len).fillna(value=0)\n",
    "property_types = pd.DataFrame(property_types)\n",
    "\n",
    "property_types['total'] = property_types.sum(axis=1)\n",
    "#property_types = property_types.loc[:, 'Apartment':'Villa'].div(property_types.total, axis = 0)\n",
    "# --->>> JSON\n",
    "property_types.to_json('property_types.json', orient='index')"
   ]
  },
  {
   "cell_type": "code",
   "execution_count": null,
   "metadata": {
    "collapsed": true
   },
   "outputs": [],
   "source": []
  }
 ],
 "metadata": {
  "kernelspec": {
   "display_name": "Python 2",
   "language": "python",
   "name": "python2"
  },
  "language_info": {
   "codemirror_mode": {
    "name": "ipython",
    "version": 2
   },
   "file_extension": ".py",
   "mimetype": "text/x-python",
   "name": "python",
   "nbconvert_exporter": "python",
   "pygments_lexer": "ipython2",
   "version": "2.7.13"
  }
 },
 "nbformat": 4,
 "nbformat_minor": 2
}
